{
 "cells": [
  {
   "cell_type": "markdown",
   "id": "bfac22e6",
   "metadata": {},
   "source": [
    "# 1. Градусник.\n",
    "\n",
    "**Дано:** список градусов Цельсия.\n",
    "\n",
    "**Задание:** написать функцию, которая преобразовывает исходный список градусов Цельсия в список градусов Фаренгейта"
   ]
  },
  {
   "cell_type": "code",
   "execution_count": 3,
   "id": "f73ff6ea",
   "metadata": {},
   "outputs": [
    {
     "name": "stdout",
     "output_type": "stream",
     "text": [
      "[102.56, 97.7, 99.14, 100.03999999999999]\n"
     ]
    }
   ],
   "source": [
    "def celsius_to_fahrenheit(temperatures):\n",
    "    fahrenheit_temperatures = []\n",
    "    for temp in temperatures:\n",
    "        fahrenheit = (temp * 9/5) + 32\n",
    "        fahrenheit_temperatures.append(fahrenheit)\n",
    "    return fahrenheit_temperatures\n",
    "\n",
    "celsius_temperatures = [39.2, 36.5, 37.3, 37.8]\n",
    "fahrenheit_temperatures = celsius_to_fahrenheit(celsius_temperatures)\n",
    "print(fahrenheit_temperatures)"
   ]
  },
  {
   "cell_type": "markdown",
   "id": "b9bc462a",
   "metadata": {},
   "source": [
    "# 2. Длинномер\n",
    "\n",
    "**Дано:** список строковых значений.\n",
    "\n",
    "**Задание:** написать функцию, которая возвращает список длин каждой строки."
   ]
  },
  {
   "cell_type": "code",
   "execution_count": 4,
   "id": "c2b0d9bc",
   "metadata": {},
   "outputs": [
    {
     "name": "stdout",
     "output_type": "stream",
     "text": [
      "[4, 3, 3]\n"
     ]
    }
   ],
   "source": [
    "def get_string_lengths(strings):\n",
    "    return list(map(len, strings))\n",
    "\n",
    "strings = ['Tina', 'Raj', 'Tom']\n",
    "lengths = get_string_lengths(strings)\n",
    "print(lengths)  # [4, 3, 3]"
   ]
  },
  {
   "cell_type": "markdown",
   "id": "8d295834",
   "metadata": {},
   "source": [
    "# 3. Рефакторинг.\n",
    "\n",
    "**Дано:** неоптимальный код.\n",
    "\n",
    "**Задание:** оптимизировать следующий код.\n",
    "\n",
    "sentences = ['капитан джек воробей',\n",
    "             'капитан дальнего плавания',\n",
    "             'ваша лодка готова, капитан']\n",
    "\n",
    "cap_count = 0\n",
    "for sentence in sentences:\n",
    "    cap_count += sentence.count('капитан')\n",
    "\n",
    "print(cap_count)"
   ]
  },
  {
   "cell_type": "code",
   "execution_count": 5,
   "id": "4783edb3",
   "metadata": {},
   "outputs": [
    {
     "name": "stdout",
     "output_type": "stream",
     "text": [
      "3\n"
     ]
    }
   ],
   "source": [
    "sentences = ['капитан джек воробей',\n",
    "             'капитан дальнего плавания',\n",
    "             'ваша лодка готова, капитан',]\n",
    "\n",
    "cap_count = sum(map(lambda sentence: sentence.count('капитан'), sentences))\n",
    "print(cap_count)"
   ]
  },
  {
   "cell_type": "markdown",
   "id": "f76cba3d",
   "metadata": {},
   "source": [
    "# 4. Возведение в степень.\n",
    "\n",
    "**Дано:** два списка одинаковой длины: чисел X и степеней Y.\n",
    "\n",
    "**Задание:** написать функцию, которая возвращает список [x1^y1, x2^y2, ..], где X=[x1, x2, ..], Y=[y1, y2, ..]."
   ]
  },
  {
   "cell_type": "code",
   "execution_count": 8,
   "id": "78745519",
   "metadata": {},
   "outputs": [
    {
     "name": "stdout",
     "output_type": "stream",
     "text": [
      "[1024, 177147, 16777216]\n"
     ]
    }
   ],
   "source": [
    "def exponentiate(X, Y):\n",
    "    result = list(map(lambda a, b: a**b, X, Y))\n",
    "    return result\n",
    "\n",
    "X = [2, 3, 4]\n",
    "Y = [10, 11, 12]\n",
    "print(exponentiate(X, Y))"
   ]
  },
  {
   "cell_type": "markdown",
   "id": "fc9f8e6a",
   "metadata": {},
   "source": [
    "# 5. Ленивая функция.\n",
    "\n",
    "**Дано:** цело число n.\n",
    "\n",
    "**Задание:** написать функцию-генератор, которая будет \"лениво\" возвращать значения от 0 до n, определенные следующими правилами.\n",
    "\n",
    "Если\n",
    "\n",
    "x == 0 -> -10\n",
    "x % 3 -> 45\n",
    "x % 5 -> (x / 5) + 93\n",
    "\n",
    "Иначе\n",
    "\n",
    "-> x / 2"
   ]
  },
  {
   "cell_type": "code",
   "execution_count": 9,
   "id": "2bcf6781",
   "metadata": {},
   "outputs": [
    {
     "name": "stdout",
     "output_type": "stream",
     "text": [
      "1) [-10, 45, 45, 93.6]\n",
      "2) [-10, 45, 45, 93.6, 45, 45, 94.2, 45]\n"
     ]
    }
   ],
   "source": [
    "def lazy_generator(n):\n",
    "    for x in range(n + 1):\n",
    "        if x == 0:\n",
    "            yield -10\n",
    "        elif x % 3:\n",
    "            yield 45\n",
    "        elif x % 5:\n",
    "            yield (x / 5) + 93\n",
    "        else:\n",
    "            yield x / 2\n",
    "\n",
    "n = 3\n",
    "result = list(lazy_generator(n))\n",
    "print(\"1)\", result)\n",
    "\n",
    "n = 7\n",
    "result = list(lazy_generator(n))\n",
    "print(\"2)\", result)"
   ]
  }
 ],
 "metadata": {
  "kernelspec": {
   "display_name": "Python 3 (ipykernel)",
   "language": "python",
   "name": "python3"
  },
  "language_info": {
   "codemirror_mode": {
    "name": "ipython",
    "version": 3
   },
   "file_extension": ".py",
   "mimetype": "text/x-python",
   "name": "python",
   "nbconvert_exporter": "python",
   "pygments_lexer": "ipython3",
   "version": "3.10.8"
  }
 },
 "nbformat": 4,
 "nbformat_minor": 5
}
