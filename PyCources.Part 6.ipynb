{
 "cells": [
  {
   "cell_type": "markdown",
   "id": "78b8944e",
   "metadata": {},
   "source": [
    "**Задачи**\n",
    "\n",
    "**1. Последний с четными**\n",
    "\n",
    "**Дано:** список (list) целых чисел (int).\n",
    "\n",
    "**Задание:** нужно найти сумму элементов с четными индексами (0-й, 2-й, 4-й итд), затем перемножить эту сумму и последний элемент исходного массива.\n",
    "\n",
    "**Пример:**\n",
    "\n",
    " elements = [0, 1, 2, 3, 4, 5], результат: 30\n",
    "\n",
    " elements = [1, 3, 5], результат: 30\n",
    "\n",
    " elements = [] , результат: 0"
   ]
  },
  {
   "cell_type": "code",
   "execution_count": 1,
   "id": "a4afb790",
   "metadata": {},
   "outputs": [
    {
     "name": "stdout",
     "output_type": "stream",
     "text": [
      "30\n"
     ]
    }
   ],
   "source": [
    "def sum_even_multiplication (elements):\n",
    "    if elements:\n",
    "        sum_even = sum(elements[0::2])\n",
    "        result = sum_even * elements[-1]\n",
    "        print(result)\n",
    "elements = [0, 1, 2, 3, 4, 5]\n",
    "sum_even_multiplication(elements)"
   ]
  },
  {
   "cell_type": "markdown",
   "id": "7bc949e0",
   "metadata": {},
   "source": [
    "**2. Max-min**\n",
    "\n",
    "**Дано:** массив чисел (float или/и int).\n",
    "\n",
    "**Задание:** нужно найти разницу между самым большим (максимум) и самым малым (минимум) элементом. Если список пуст, то результат равен 0 (ноль).\n",
    "\n",
    "Числа с плавающей точкой представлены в компьютерах как двоичная дробь. Результат проверяется с точностью до третьего знака, как ±0.001\n",
    "\n",
    "**Пример:**\n",
    "\n",
    " elements = [1, 2, 3], результат: 2\n",
    "\n",
    " elements = [5, -5], результат: 30\n",
    "\n",
    " elements = [10.2, -2.2, 0, 1.1, 0.5], результат: 12.4\n",
    "\n",
    " elements = [] , результат: 0\n"
   ]
  },
  {
   "cell_type": "code",
   "execution_count": 2,
   "id": "6fe8f695",
   "metadata": {},
   "outputs": [
    {
     "name": "stdout",
     "output_type": "stream",
     "text": [
      "Result: 12.700\n"
     ]
    }
   ],
   "source": [
    "def max_minus_min(elements):\n",
    "    if elements:\n",
    "        max_element = max(elements)\n",
    "        min_element = min(elements)\n",
    "        result = max_element - min_element\n",
    "        print(\"Result: {0:.3f}\".format(result))\n",
    "    if not elements:\n",
    "        print(0)\n",
    "elements = [-2.7, -2.654, 10]\n",
    "max_minus_min(elements)"
   ]
  },
  {
   "cell_type": "markdown",
   "id": "72134584",
   "metadata": {},
   "source": [
    "**3. Умная сортировка**\n",
    "\n",
    "**Дано:** кортеж (tuple) чисел.\n",
    "\n",
    "**Задание:** необходимо отсортировать их, но отсортировать на основе абсолютных значений в возрастающем порядке. Для примера, последовательность (-20, -5, 10, 15) будет отсортирована следующим образом (-5, 10, 15, -20). Ваша функция должна возвращать список (list) или кортеж (tuple).\n",
    "\n",
    "**Пример:**\n",
    "\n",
    " elements = (-20, -5, 10, 15), результат: [-5, 10, 15, -20]\n",
    "\n",
    " elements = (1, 2, 3, 0), результат: [0, 1, 2, 3]\n",
    "\n",
    " elements = (-1, -2, -3, 0), результат: [0, -1, -2, -3]"
   ]
  },
  {
   "cell_type": "code",
   "execution_count": 6,
   "id": "a50fe63c",
   "metadata": {},
   "outputs": [
    {
     "name": "stdout",
     "output_type": "stream",
     "text": [
      "(-5, 10, 15, -20)\n"
     ]
    }
   ],
   "source": [
    "def smart_sorting(elements):\n",
    "    return tuple(sorted(elements, key=abs))\n",
    "elements = (-20, -5, 10, 15)\n",
    "print(smart_sorting(elements))"
   ]
  },
  {
   "cell_type": "markdown",
   "id": "4c628797",
   "metadata": {},
   "source": [
    "**4. [Junior] Медиана**\n",
    "\n",
    "**Дано:** кортеж или список чисел.\n",
    "\n",
    "**Задание:** Медиана - это числовое значение, которое делит сортированый массив чисел на большую и меньшую половины. В сортированом массиве с нечетным числом элементов медиана - это число в середине массива. Для массива с четным числом элементов, где нет одного элемента точно посередине, медиана - это среднее значение двух чисел, находящихся в середине массива. В этой задаче дан непустой массив натуральных чисел. Вам необходимо найти медиану данного массива.\n",
    "\n",
    "**Пример:**\n",
    "\n",
    " elements = [1, 2, 3, 4, 5], результат: 3\n",
    "\n",
    " elements = [3, 1, 2, 5, 3], результат: 3\n",
    "\n",
    " elements = [1, 300, 2, 200, 1], результат: 2\n",
    "\n",
    " elements = [3, 6, 20, 99, 10, 15], результат: 12.5"
   ]
  },
  {
   "cell_type": "code",
   "execution_count": 11,
   "id": "98091078",
   "metadata": {},
   "outputs": [
    {
     "name": "stdout",
     "output_type": "stream",
     "text": [
      "12.5\n"
     ]
    }
   ],
   "source": [
    "list = [3, 6, 20, 99, 10, 15]\n",
    "list.sort()\n",
    "mediana = len(list) // 2\n",
    "result = (list[mediana] + list[~mediana]) / 2\n",
    "print(str(result))"
   ]
  }
 ],
 "metadata": {
  "kernelspec": {
   "display_name": "Python 3 (ipykernel)",
   "language": "python",
   "name": "python3"
  },
  "language_info": {
   "codemirror_mode": {
    "name": "ipython",
    "version": 3
   },
   "file_extension": ".py",
   "mimetype": "text/x-python",
   "name": "python",
   "nbconvert_exporter": "python",
   "pygments_lexer": "ipython3",
   "version": "3.10.8"
  }
 },
 "nbformat": 4,
 "nbformat_minor": 5
}
