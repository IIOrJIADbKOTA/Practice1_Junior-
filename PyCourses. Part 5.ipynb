{
 "cells": [
  {
   "cell_type": "markdown",
   "id": "64311483",
   "metadata": {},
   "source": [
    "**1. Fizz Buzz**\n",
    "\n",
    "**Дано:** Число, как целочисленное (int).\n",
    "\n",
    "**Задание:**\n",
    "\n",
    "\"Fizz buzz\" это игра со словами, с помощью которой мы будем учить наших роботов делению. Давайте обучим компьютер.\n",
    "\n",
    "Вы должны написать программу, которая принимает положительное целое число и возвращает сл. значения.\n",
    "\n",
    "\"Fizz Buzz\", если число делится на 3 и 5;\n",
    "\"Fizz\", если число делится на 3;\n",
    "\"Buzz\", если число делится на 5;\n",
    "Число, как строку для остальных случаев.\n",
    "\n",
    "**Пример:**\n",
    "\n",
    " x = 15, результат: \"Fizz Buzz\"\n",
    "\n",
    " x = 6, результат: \"Fizz\"     \n",
    "\n",
    " x = 5, результат: \"Buzz\"   \n",
    "\n",
    " x = 7, результат: \"7\" \n"
   ]
  },
  {
   "cell_type": "code",
   "execution_count": 1,
   "id": "72c203b6",
   "metadata": {},
   "outputs": [
    {
     "name": "stdout",
     "output_type": "stream",
     "text": [
      "Result: Fizz Buzz\n"
     ]
    }
   ],
   "source": [
    "#1. Fizz Buzz\n",
    "number = 60\n",
    "if number % 3 == 0 and number % 5 == 0:\n",
    "    print('Result: Fizz Buzz')\n",
    "elif number % 3 == 0:\\\n",
    "    print('Result: Fizz')\n",
    "elif number % 5 == 0:\\\n",
    "    print('Result: Buzz')\n",
    "else:\n",
    "    print(str(number))"
   ]
  },
  {
   "cell_type": "markdown",
   "id": "86593960",
   "metadata": {},
   "source": [
    "**2. Оценка числа**\n",
    "\n",
    "**Дано:** Число x.\n",
    "\n",
    "**Задание:** нужно написать программу, которая дает оценку заданному значению, используя следующие правила.\n",
    "\n",
    "если x нечетное, то это \"Плохо\"\n",
    "если x = [2, 5] и четное, то это \"Неплохо\"\n",
    "если x = [6, 20] и четное, то это \"Так себе\"\n",
    "если x > 20 и четное, то это \"Отлично\"\n",
    "\n",
    "**Пример:**\n",
    "\n",
    " x = 15, результат: \"Плохо\"\n",
    "\n",
    " x = 4, результат: \"Неплохо\"     \n",
    "\n",
    " x = 8, результат: \"Так себе\"   \n",
    "\n",
    " x = 24, результат: \"Отлично\""
   ]
  },
  {
   "cell_type": "code",
   "execution_count": 4,
   "id": "7a5387d5",
   "metadata": {},
   "outputs": [
    {
     "name": "stdout",
     "output_type": "stream",
     "text": [
      "Result: Great\n"
     ]
    }
   ],
   "source": [
    "#2.Number score\n",
    "number = 22\n",
    "if number % 2 == 1:\n",
    "    print('Result: Bad')\n",
    "elif 2 <= number <= 5 and number % 2 == 0:\n",
    "    print ('Result: Not bad')\n",
    "elif 6 <= number <= 20 and number % 2 == 0:\n",
    "    print ('Result: So-so')\n",
    "elif number > 20 and number % 2 == 0:\n",
    "    print('Result: Great')"
   ]
  },
  {
   "cell_type": "markdown",
   "id": "5f6b7d08",
   "metadata": {},
   "source": [
    "**3. Последовательность**\n",
    "\n",
    "**Дано:** Число N = [1-9].\n",
    "\n",
    "**Задание:** нужно написать программу, которая выведет последовательность 123..N\n",
    "\n",
    "**Пример:**\n",
    "\n",
    " N = 3, результат: 123\n",
    "\n",
    " N = 9, результат: 123456789     \n",
    "\n",
    " x = 1, результат: 1"
   ]
  },
  {
   "cell_type": "code",
   "execution_count": 5,
   "id": "801f2c28",
   "metadata": {},
   "outputs": [
    {
     "name": "stdout",
     "output_type": "stream",
     "text": [
      "123456789"
     ]
    }
   ],
   "source": [
    "#3.Subsequence\n",
    "number = 9\n",
    "if 1 <= number <= 9:\n",
    "    for number in range (1, number + 1):\n",
    "        print (number, end = '')\n",
    "else:\n",
    "    print ('Failed')"
   ]
  },
  {
   "cell_type": "markdown",
   "id": "d9b1afa3",
   "metadata": {},
   "source": [
    "**4. Секретное сообщение**\n",
    "\n",
    "\"Где умный человек прячет лист? В лесу. Но что если леса нет? ... Он выращивает лес и прячет его там.\" -- Гилберт Кит Честертон\n",
    "\n",
    "Когда-нибудь пробовали отправить секретное сообщение кому-то не пользуясь услугами почты? Вы можете использовать газету, чтобы рассказать кому-то свой секрет. Даже если кто-то найдет ваше сообщение, легко отмахнуться и сказать что это паранойя и теория заговора. Один из самых простых способов спрятать ваше секретное сообщение это использовать заглавные буквы. Давайте найдем несколько таких секретных сообщений.\n",
    "\n",
    "**Дано:** Дан кусок текста (str).\n",
    "\n",
    "**Задание:** Соберите все заглавные буквы в одно слово в том порядке как они встречаются в куске текста. Подсказка: посмотрите внимательно на методы класса str.\n",
    "\n",
    "**Пример:**\n",
    "\n",
    " текст = \"How are you? Eh, ok. Low or Lower? Ohhh.\", если мы соберем все заглавные буквы, то получим сообщение \"HELLO\"."
   ]
  },
  {
   "cell_type": "code",
   "execution_count": 6,
   "id": "32117755",
   "metadata": {},
   "outputs": [
    {
     "name": "stdout",
     "output_type": "stream",
     "text": [
      "\n",
      "HELLO\n"
     ]
    }
   ],
   "source": [
    "#4.Secret message\n",
    "result = '\\n'\n",
    "text = 'How are you? Eh, ok. Low or Lower? Ohhh.'\n",
    "for i in text:\n",
    "    if i.isupper():\n",
    "        result += i\n",
    "print(result)"
   ]
  },
  {
   "cell_type": "markdown",
   "id": "b3219c32",
   "metadata": {},
   "source": [
    "**[Junior] 5. Три слова**\n",
    "\n",
    "Давайте научим наших роботов отличать слова от чисел.\n",
    "\n",
    "Дана строка со словами и числами, разделенными пробелами (один пробел между словами и/или числами). Слова состоят только из букв.\n",
    "\n",
    "**Дано:** Строка со словами (str).\n",
    "\n",
    "**Задание:** напишите программу, которая проверяет есть ли в исходной строке три слова подряд. Для примера, в строке \"start 5 one two three 7 end\" есть три слова подряд.\n",
    "\n",
    "**Примеры:**\n",
    "\n",
    "text = \"Hello World hello\", результат: True\n",
    "\n",
    "text = \"He is 123 man\", результат: False\n",
    "\n",
    "text = \"1 2 3 4\", результат: False"
   ]
  },
  {
   "cell_type": "code",
   "execution_count": null,
   "id": "aa367458",
   "metadata": {},
   "outputs": [],
   "source": []
  }
 ],
 "metadata": {
  "kernelspec": {
   "display_name": "Python 3 (ipykernel)",
   "language": "python",
   "name": "python3"
  },
  "language_info": {
   "codemirror_mode": {
    "name": "ipython",
    "version": 3
   },
   "file_extension": ".py",
   "mimetype": "text/x-python",
   "name": "python",
   "nbconvert_exporter": "python",
   "pygments_lexer": "ipython3",
   "version": "3.10.8"
  }
 },
 "nbformat": 4,
 "nbformat_minor": 5
}
