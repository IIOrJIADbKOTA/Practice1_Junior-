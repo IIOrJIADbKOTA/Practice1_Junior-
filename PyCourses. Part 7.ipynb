{
 "cells": [
  {
   "cell_type": "markdown",
   "id": "1b324068",
   "metadata": {},
   "source": [
    "**1. Анализ текста. Популярность.**\n",
    "\n",
    "**Дано:** текст (str).\n",
    "\n",
    "**Задание:** необходимо получить 2 словаря (популярности слов и популярности букв)."
   ]
  },
  {
   "cell_type": "code",
   "execution_count": 3,
   "id": "7e3a4354",
   "metadata": {},
   "outputs": [
    {
     "name": "stdout",
     "output_type": "stream",
     "text": [
      "Символы: {'h': 1, 'e': 1, 'l': 2, 'o': 4, ',': 1, ' ': 3, 'w': 2, 'r': 2, 'd': 2, 'f': 1}\n",
      "Слова: {'hello,': 1, 'word': 2, 'of': 1}\n"
     ]
    }
   ],
   "source": [
    "# 1. Text analysis\n",
    "text = 'hello, word of word'\n",
    "chars_popularity = {}\n",
    "words_popularity = {}\n",
    "for word in text.split():\n",
    "    try:\n",
    "        words_popularity[word] += 1\n",
    "    except KeyError:\n",
    "        words_popularity[word] = 1\n",
    "for char in text:\n",
    "    try:\n",
    "        chars_popularity[char] += 1\n",
    "    except KeyError:\n",
    "        chars_popularity[char] = 1\n",
    "print(\"Символы:\", chars_popularity)\n",
    "print(\"Слова:\", words_popularity)"
   ]
  },
  {
   "cell_type": "markdown",
   "id": "335d0897",
   "metadata": {},
   "source": [
    "**2. Римские цифры**\n",
    "\n",
    "**Дано:** целое число (int).\n",
    "\n",
    "**Задание:** Римские цифры пришли к нам из древней римской системы счета. Они основаны на особых буквах алфавита, которые в различных сочетаниях, путем суммирования (а иногда и разницы) описывают различные числа. Первые 10 римских чисел это:\n",
    "\n",
    "I, II, III, IV, V, VI, VII, VIII, IX, and X.\n",
    "\n",
    "Римская система счета имеет десятичное основание, но она непозиционная и не включает в себя 0 (ноль). Римские числа образуются путем комбинации следующих семи символов:\n",
    "\n",
    "Символ Значение I 1 (unus) V 5 (quinque) X 10 (decem) L 50 (quinquaginta) C 100 (centum) D 500 (quingenti) M 1,000 (mille) Узнать больше о римских цифрах вы можете в статье на Википедии.\n",
    "\n",
    "В этой задаче, вам необходимо преобразовать данное целое число (от 1 до 3999) в римскую систему счета."
   ]
  },
  {
   "cell_type": "code",
   "execution_count": 4,
   "id": "39be48f1",
   "metadata": {},
   "outputs": [
    {
     "name": "stdout",
     "output_type": "stream",
     "text": [
      "\n",
      "Введите число: 3999\n",
      "MMMCMXCIX\n"
     ]
    }
   ],
   "source": [
    "# 2. Roman numbers\n",
    "number = int(input('\\nВведите число: '))\n",
    "numbers_ones = [\"\", \"I\", \"II\", \"III\", \"IV\", \"V\", \"VI\", \"VII\", \"VIII\", \"IX\"] #1-9\n",
    "numbers_tens = [\"\", \"X\", \"XX\", \"XXX\", \"XL\", \"L\", \"LX\", \"LXX\", \"LXXX\", \"XC\"] #10-90\n",
    "numbers_hundreds = [\"\", \"C\", \"CC\", \"CCC\", \"CD\", \"D\", \"DC\", \"DCC\", \"DCCC\", \"CM\"] #100-900\n",
    "numbers_thousands = [\"\", \"M\", \"MM\", \"MMM\", \"MMM\"] #1000-3000\n",
    "\n",
    "thousand = numbers_thousands[number // 1000]\n",
    "hundred = numbers_hundreds[number // 100 % 10]\n",
    "ten = numbers_tens[number // 10 % 10]\n",
    "one = numbers_ones[number % 10]\n",
    "if number < 1 or number > 3999:\n",
    "    print(\"Ошибка!\")\n",
    "else:\n",
    "    print(thousand + hundred + ten + one)"
   ]
  },
  {
   "cell_type": "markdown",
   "id": "ae2bdafc",
   "metadata": {},
   "source": [
    "**3. Ленивый спекулянт**\n",
    "\n",
    "**Дано:** словарь банк - курс доллара (dict).\n",
    "\n",
    "**Задание:** определить банк и курс покупки валюты с наиболее привлекательным предложением."
   ]
  },
  {
   "cell_type": "code",
   "execution_count": 5,
   "id": "b2050bd3",
   "metadata": {},
   "outputs": [
    {
     "name": "stdout",
     "output_type": "stream",
     "text": [
      "\n",
      "Результат: VTB24 -> 53.91\n"
     ]
    }
   ],
   "source": [
    "#3. Bank\n",
    "rates = {'Sberbank': '55.8', 'VTB24': '53.91', 'Tinkoff': '56.2', 'Alfa Bank': '55.34'}\n",
    "print(\"\\nРезультат:\", min(rates, key=rates.get), \"->\", min(rates.values()))"
   ]
  },
  {
   "cell_type": "markdown",
   "id": "f1f3b0f7",
   "metadata": {},
   "source": [
    "**4. Вверх дном**\n",
    "\n",
    "**Дано:** словарь ФИО - номер телефона(dict).\n",
    "\n",
    "**Задание:** получить новый словарь, инвертировав исходный, т.е. пары ключ - значение поменять местами (значение - ключ)."
   ]
  },
  {
   "cell_type": "code",
   "execution_count": 6,
   "id": "0c16ae08",
   "metadata": {},
   "outputs": [
    {
     "name": "stdout",
     "output_type": "stream",
     "text": [
      "\n",
      "Результат: {89138457545: 'Petrov V.V.', 89138135678: 'Bedrov V.Y.', 89111222333: 'Kazakova K.A.'}\n"
     ]
    }
   ],
   "source": [
    "#4. Bottom up\n",
    "book = {\"Petrov V.V.\":89138457545,\"Bedrov V.Y.\":89138135678,\"Kazakova K.A.\":89111222333}\n",
    "inverse_book = dict([val,key] for [key, val] in book.items())\n",
    "print(\"\\nРезультат:\", inverse_book)"
   ]
  },
  {
   "cell_type": "markdown",
   "id": "ccffaa6f",
   "metadata": {},
   "source": [
    "**5. Структурируем данные**\n",
    "\n",
    "**Дано:** 2 списка с измерениями(list).\n",
    "\n",
    "**Задание.** Ученый-спекулянт анализировал курс доллара и собрал 2 списка: один с датами (dates), а другой с курсами валют (rates). Он знает, что эти списки имеют одинаковую длину, а также что i-ый курс из списка rates соотвествует i-ой дате из списка dates. Друзья ученого, зная о его исследовании, часто просят его предоставить значение курса валюты на определенную дату. Так как ученый-спекулянт изучает Python, то решил составить словарь, что позволит ему быстро получать такую информацию.\n",
    "\n",
    "Формально нужно получить словарь из 2х списков, где в первом находятся ключи, а во втором значения."
   ]
  },
  {
   "cell_type": "code",
   "execution_count": 7,
   "id": "4a2c1c95",
   "metadata": {},
   "outputs": [
    {
     "name": "stdout",
     "output_type": "stream",
     "text": [
      "\n",
      "Результат: {'2017-03-01': 55.7, '2017-03-02': 55.2}\n"
     ]
    }
   ],
   "source": [
    "#5. Data structuring\n",
    "dates = ['2017-03-01', '2017-03-02']\n",
    "rates = [55.7, 55.2]\n",
    "print(\"\\nРезультат:\", dict(zip(dates, rates)))"
   ]
  }
 ],
 "metadata": {
  "kernelspec": {
   "display_name": "Python 3 (ipykernel)",
   "language": "python",
   "name": "python3"
  },
  "language_info": {
   "codemirror_mode": {
    "name": "ipython",
    "version": 3
   },
   "file_extension": ".py",
   "mimetype": "text/x-python",
   "name": "python",
   "nbconvert_exporter": "python",
   "pygments_lexer": "ipython3",
   "version": "3.10.8"
  }
 },
 "nbformat": 4,
 "nbformat_minor": 5
}
