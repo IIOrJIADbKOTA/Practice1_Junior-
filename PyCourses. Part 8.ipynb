{
 "cells": [
  {
   "cell_type": "markdown",
   "id": "549e47ab",
   "metadata": {},
   "source": [
    "**1. Не уникальные элементы.**\n",
    "\n",
    "**Дано:** непустой массив целых чисел.\n",
    "\n",
    "**Задание:** нужно получить массив, состоящий только из неуникальных элементов данного массива. Для этого необходимо удалить все уникальные элементы (которые присутствуют в данном массиве только один раз). Для решения этой задачи не меняйте оригинальный порядок элементов. Пример: [1, 2, 3, 1, 3], где 1 и 3 неуникальные элементы и результат будет [1, 3, 1, 3]."
   ]
  },
  {
   "cell_type": "code",
   "execution_count": 1,
   "id": "e4778c38",
   "metadata": {},
   "outputs": [
    {
     "name": "stdout",
     "output_type": "stream",
     "text": [
      "[1, 3, 1, 3]\n"
     ]
    }
   ],
   "source": [
    "elements = [1, 2, 3, 5, 1, 3]\n",
    "Non_unique = [i for i in elements if elements.count(i) != 1]\n",
    "print(Non_unique)"
   ]
  },
  {
   "cell_type": "markdown",
   "id": "63dcc5ef",
   "metadata": {},
   "source": [
    "**2. Перестановки.**\n",
    "\n",
    "**Дано:** x, y, z, n.\n",
    "\n",
    "**Задание:** нужно получить список всех возможных перестановок чисел x, y, z, где x + y + z != n."
   ]
  },
  {
   "cell_type": "code",
   "execution_count": 5,
   "id": "22dccfa6",
   "metadata": {},
   "outputs": [
    {
     "name": "stdout",
     "output_type": "stream",
     "text": [
      "Введите число(x):2\n",
      "Введите число(y):1\n",
      "Введите число(z):1\n",
      "Введите число(n):3\n",
      "[[2, 2, 2]]\n",
      "[[2, 2, 2], [2, 2, 1]]\n",
      "[[2, 2, 2], [2, 2, 1], [2, 1, 2]]\n",
      "[[2, 2, 2], [2, 2, 1], [2, 1, 2], [2, 1, 1]]\n",
      "[[2, 2, 2], [2, 2, 1], [2, 1, 2], [2, 1, 1], [1, 2, 2]]\n",
      "[[2, 2, 2], [2, 2, 1], [2, 1, 2], [2, 1, 1], [1, 2, 2], [1, 2, 1]]\n",
      "[[2, 2, 2], [2, 2, 1], [2, 1, 2], [2, 1, 1], [1, 2, 2], [1, 2, 1], [1, 1, 2]]\n"
     ]
    }
   ],
   "source": [
    "List = []\n",
    "first_element = int(input('Введите число(x):'))\n",
    "second_element = int(input('Введите число(y):'))\n",
    "third_element = int(input('Введите число(z):'))\n",
    "set_numbers = [first_element, second_element, third_element]\n",
    "compared_number = int(input('Введите число(n):'))\n",
    "for x in set_numbers:\n",
    "    for y in set_numbers:\n",
    "        for z in set_numbers:\n",
    "            if x + y + z != compared_number and [x, y, z] not in List:\n",
    "                List.append([x, y, z])\n",
    "                print(List)"
   ]
  },
  {
   "cell_type": "markdown",
   "id": "6067578f",
   "metadata": {},
   "source": [
    "**3. Удвоенные нечетные.**\n",
    "\n",
    "**Дано:** n.\n",
    "\n",
    "**Задание:** нужно получить список \"удвоенных\" нечетных чисел от 0 до n."
   ]
  },
  {
   "cell_type": "code",
   "execution_count": 6,
   "id": "b89d0301",
   "metadata": {},
   "outputs": [
    {
     "name": "stdout",
     "output_type": "stream",
     "text": [
      "Введите число(n):10\n",
      "[2, 6, 10, 14, 18]\n"
     ]
    }
   ],
   "source": [
    "right_range = int(input('Введите число(n):'))\n",
    "List = [i * 2 for i in range(0, right_range) if i % 2 == 1]\n",
    "print(List)"
   ]
  }
 ],
 "metadata": {
  "kernelspec": {
   "display_name": "Python 3 (ipykernel)",
   "language": "python",
   "name": "python3"
  },
  "language_info": {
   "codemirror_mode": {
    "name": "ipython",
    "version": 3
   },
   "file_extension": ".py",
   "mimetype": "text/x-python",
   "name": "python",
   "nbconvert_exporter": "python",
   "pygments_lexer": "ipython3",
   "version": "3.10.8"
  }
 },
 "nbformat": 4,
 "nbformat_minor": 5
}
