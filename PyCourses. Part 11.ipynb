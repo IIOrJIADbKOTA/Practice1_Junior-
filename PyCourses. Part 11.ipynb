{
 "cells": [
  {
   "cell_type": "markdown",
   "id": "ceaf76db",
   "metadata": {},
   "source": [
    "# 1. Случайности не случайны.\n",
    "\n",
    "**Дано:** n - целое число.\n",
    "\n",
    "**Задание:** написать функцию-генератор, которая возвращает n дробных чисел из диапазона [0, n]. Используйте функцию random.uniform для генерации случайных чисел."
   ]
  },
  {
   "cell_type": "code",
   "execution_count": 2,
   "id": "2ef0cdf9",
   "metadata": {},
   "outputs": [
    {
     "name": "stdout",
     "output_type": "stream",
     "text": [
      "[1.2173490940202387, 2.318889089626886, 1.1194572952339414]\n"
     ]
    }
   ],
   "source": [
    "import random\n",
    "\n",
    "def random_generator(n):\n",
    "    for i in range(n):\n",
    "        yield random.uniform(0, n)\n",
    "\n",
    "print(list(random_generator(3)))"
   ]
  },
  {
   "cell_type": "markdown",
   "id": "e370fb6e",
   "metadata": {},
   "source": [
    "# 2. Ленивое объединение.\n",
    "\n",
    "**Дано:** 2 списка произвольной длины.\n",
    "\n",
    "**Задание:** написать функцию, которая возвращает результат объединения этих списков. Используйте функцию itertools.chain."
   ]
  },
  {
   "cell_type": "code",
   "execution_count": 3,
   "id": "47a9d816",
   "metadata": {},
   "outputs": [
    {
     "name": "stdout",
     "output_type": "stream",
     "text": [
      "[1, 2, 3, 4, 5, 6]\n"
     ]
    }
   ],
   "source": [
    "import itertools\n",
    "\n",
    "def concat_lists(*lists):\n",
    "    return list(itertools.chain(*lists))\n",
    "\n",
    "list1 = [1, 2]\n",
    "list2 = [3, 4]\n",
    "list3 = [5,6]\n",
    "print(list(concat_lists(list1, list2, list3)))"
   ]
  },
  {
   "cell_type": "markdown",
   "id": "228d952e",
   "metadata": {},
   "source": [
    "# 3. Рефакторинг.\n",
    "\n",
    "**Дано:** неоптимальный код.\n",
    "\n",
    "**Задание:** оптимизировать следующий код.\n",
    "\n",
    "\n",
    "def responses_creator(item_ids):\n",
    "    item_ids = [None] if item_ids is None else item_ids\n",
    "\n",
    "    responses = []\n",
    "    for item_id in item_ids:\n",
    "        new_response = dict(item_id=item_id)\n",
    "        responses.append(new_response)\n",
    "    return responses"
   ]
  },
  {
   "cell_type": "code",
   "execution_count": 4,
   "id": "ce138fd0",
   "metadata": {},
   "outputs": [
    {
     "name": "stdout",
     "output_type": "stream",
     "text": [
      "[{'item_id': 1}, {'item_id': 2}, {'item_id': 3}]\n",
      "[{'item_id': None}]\n"
     ]
    }
   ],
   "source": [
    "def responses_creator(item_ids):\n",
    "    item_ids = [None] if item_ids is None else item_ids\n",
    "    return [dict(item_id=item_id) for item_id in item_ids]\n",
    "\n",
    "print(responses_creator([1, 2, 3]))\n",
    "print(responses_creator(None))"
   ]
  },
  {
   "cell_type": "code",
   "execution_count": null,
   "id": "b157bd74",
   "metadata": {},
   "outputs": [],
   "source": []
  }
 ],
 "metadata": {
  "kernelspec": {
   "display_name": "Python 3 (ipykernel)",
   "language": "python",
   "name": "python3"
  },
  "language_info": {
   "codemirror_mode": {
    "name": "ipython",
    "version": 3
   },
   "file_extension": ".py",
   "mimetype": "text/x-python",
   "name": "python",
   "nbconvert_exporter": "python",
   "pygments_lexer": "ipython3",
   "version": "3.10.8"
  }
 },
 "nbformat": 4,
 "nbformat_minor": 5
}
