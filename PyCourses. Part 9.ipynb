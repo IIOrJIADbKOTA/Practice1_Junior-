{
 "cells": [
  {
   "cell_type": "markdown",
   "id": "5f6f6550",
   "metadata": {},
   "source": [
    "**1. Список из числа.**\n",
    "\n",
    "**Дано:** натуральное число N.\n",
    "\n",
    "**Задание:** написать функцию, которая возвращает список всех цифр этого числа в обратном порядке."
   ]
  },
  {
   "cell_type": "code",
   "execution_count": 3,
   "id": "de830434",
   "metadata": {},
   "outputs": [
    {
     "name": "stdout",
     "output_type": "stream",
     "text": [
      "input: 123\n",
      "output: [3, 2, 1]\n"
     ]
    }
   ],
   "source": [
    "def reverse(number: int) -> list:\n",
    "    return list(map(int, str(number)))[::-1]\n",
    "\n",
    "number = 123\n",
    "print('input:', number)\n",
    "print('output:', reverse(number))"
   ]
  },
  {
   "cell_type": "markdown",
   "id": "d174250e",
   "metadata": {},
   "source": [
    "**2. Палиндром.**\n",
    "\n",
    "**Дано:** слово, состоящее только из строчных латинских букв.\n",
    "\n",
    "**Задание:** написать функцию, которая возвращает True, если слово палиндромом, иначе False.\n",
    "\n",
    "Палиндро́м — число, буквосочетание, слово или текст, одинаково читающееся в обоих направлениях. Например, число 404; слова «топот» в русском языке; текст «а роза упала на лапу Азора» и пр."
   ]
  },
  {
   "cell_type": "code",
   "execution_count": 6,
   "id": "1842e6b8",
   "metadata": {},
   "outputs": [
    {
     "name": "stdout",
     "output_type": "stream",
     "text": [
      "True\n"
     ]
    }
   ],
   "source": [
    "def palindrom(word: str) -> bool:\n",
    "    return False if word != word[::-1] else True\n",
    "\n",
    "word = \"hih\"\n",
    "print(palindrom(word))"
   ]
  },
  {
   "cell_type": "markdown",
   "id": "ce02a36b",
   "metadata": {},
   "source": [
    "**3. Деканат.**\n",
    "\n",
    "**Дано:** список студентов: каждый элемент списка содержит фамилию, имя, отчество, год рождения, курс, номер группы, оценки по пяти предметам.\n",
    "\n",
    "**Задание:** реализуйте сл. функции:\n",
    "\n",
    "1) возвращает список студентов по курсу, причем студенты одного курса располагались в алфавитном порядке;\n",
    "2) находит средний балл каждой группы по каждому предмету;\n",
    "3) определяет самого старшего студента и самого младшего студентов.\n",
    "4) возвращает словарь, где для каждой группы определен лучшый с точки зрения успеваемости студент."
   ]
  },
  {
   "cell_type": "code",
   "execution_count": 7,
   "id": "f1b2a8be",
   "metadata": {},
   "outputs": [
    {
     "name": "stdout",
     "output_type": "stream",
     "text": [
      "1) [['Сорокина', 'Виктория', 'Олеговна', 2002, 3, '430-1', 5, 5, 5, 5, 5], ['Яковлев', 'Кирилл', 'Андреевич', 2002, 3, '430-4', 4, 4, 5, 3, 4]]\n",
      "3) (['Петров', 'Петр', 'Петрович', 2001, 4, '429-2', 3, 3, 5, 5, 4], ['Иванов', 'Иван', 'Иванович', 2003, 2, '431-2', 3, 3, 5, 3, 4])\n"
     ]
    }
   ],
   "source": [
    "def sotred_course(student):\n",
    "    course = 3\n",
    "    result = [i for i in student if i[4] == course]\n",
    "    sorted_student = sorted(result)\n",
    "    return sorted_student\n",
    "\n",
    "#def group_average_mark_in_subjects(student):\n",
    "\n",
    "\n",
    "def old_young_students(student: list) -> (list, list):\n",
    "    old = []\n",
    "    young = []\n",
    "    min = max = 0\n",
    "    for i in range(len(student)):\n",
    "        if i == 0:\n",
    "            old = student[i]\n",
    "            young = student[i]\n",
    "            min = max = student[i][3]\n",
    "        elif student[i][3] < max:\n",
    "            max = student[i][3]\n",
    "            old = student[i]\n",
    "        elif student[i][3] > min:\n",
    "            min = student[i][3]\n",
    "            young = student[i]\n",
    "    return old, young\n",
    "\n",
    "#def best_student_of_each_group(student):\n",
    "\n",
    "\n",
    "students = []\n",
    "first = ['Яковлев', 'Кирилл', 'Андреевич', 2002, 3, '430-4', 4, 4, 5, 3, 4]\n",
    "second = ['Петров', 'Петр', 'Петрович', 2001, 4, '429-2', 3, 3, 5, 5, 4]\n",
    "third = ['Иванов', 'Иван', 'Иванович', 2003, 2, '431-2', 3, 3, 5, 3, 4]\n",
    "fourth = ['Сорокина', 'Виктория', 'Олеговна', 2002, 3, '430-1', 5, 5, 5, 5, 5]\n",
    "\n",
    "\n",
    "students.append(first)\n",
    "students.append(second)\n",
    "students.append(third)\n",
    "students.append(fourth)\n",
    "\n",
    "print('1)', sotred_course(students))\n",
    "#print('2)', get_every_group_average_mark_each_subject(students))\n",
    "print('3)', old_young_students(students))\n",
    "#print('4)', best_student_of_each_group(students))"
   ]
  }
 ],
 "metadata": {
  "kernelspec": {
   "display_name": "Python 3 (ipykernel)",
   "language": "python",
   "name": "python3"
  },
  "language_info": {
   "codemirror_mode": {
    "name": "ipython",
    "version": 3
   },
   "file_extension": ".py",
   "mimetype": "text/x-python",
   "name": "python",
   "nbconvert_exporter": "python",
   "pygments_lexer": "ipython3",
   "version": "3.10.8"
  }
 },
 "nbformat": 4,
 "nbformat_minor": 5
}
