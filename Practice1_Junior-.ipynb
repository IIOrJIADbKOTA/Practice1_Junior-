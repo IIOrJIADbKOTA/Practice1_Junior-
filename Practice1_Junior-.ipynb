{
 "cells": [
  {
   "cell_type": "markdown",
   "id": "1d9503f3",
   "metadata": {},
   "source": [
    "**3.6 Задачи**\n",
    "\n",
    "**1. Welcome to Python**\n",
    "**Дано:** имя и фамилия.\n",
    "\n",
    "**Задание:** написать программу, которая будет приветствовать нового человека в мире Python. Текст приветсвия: Hello NAME SURNAME! You just delved into Python. Great start!\n",
    "\n",
    "**Пример:** Hello Ibrahim Petrov! You just delved into Python. Great start!"
   ]
  },
  {
   "cell_type": "code",
   "execution_count": 1,
   "id": "af40bfda",
   "metadata": {},
   "outputs": [
    {
     "name": "stdout",
     "output_type": "stream",
     "text": [
      "Hello Kirill Yakovelv! You just delved into Python. Great start!\n"
     ]
    }
   ],
   "source": [
    "#1. Welcome to Python\n",
    "name = 'Kirill'\n",
    "surname = 'Yakovelv'\n",
    "print(f'Hello {name} {surname}! You just delved into Python. Great start!')"
   ]
  },
  {
   "cell_type": "markdown",
   "id": "facd52a6",
   "metadata": {},
   "source": [
    "**2. Python art**\n",
    "\n",
    "**Дано:** маркер (символ) и толщина фигуры.\n",
    "\n",
    "**Задание:** написать программу, которая будет отображать заданную фигуру.\n",
    "\n",
    "**Пример:** Маркер = H, толщина 5."
   ]
  },
  {
   "cell_type": "code",
   "execution_count": 2,
   "id": "3816843f",
   "metadata": {},
   "outputs": [
    {
     "name": "stdout",
     "output_type": "stream",
     "text": [
      "  O  \n",
      " OOO \n",
      "OOOOO\n",
      " OOO         OOO        \n",
      " OOO         OOO        \n",
      " OOO         OOO        \n",
      " OOO         OOO        \n",
      " OOOOOOOOOOOOOOO  \n",
      " OOOOOOOOOOOOOOO  \n",
      " OOO         OOO        \n",
      " OOO         OOO        \n",
      " OOO         OOO        \n",
      " OOO         OOO        \n",
      "            OOOOO \n",
      "             OOO  \n",
      "              O   \n"
     ]
    }
   ],
   "source": [
    "#2. Python art\n",
    "width = 3\n",
    "c = 'O'\n",
    "\n",
    "#Top Cone\n",
    "for i in range(width):\n",
    "    print((c*i).rjust(width-1) + c + (c*i).ljust(width-1))\n",
    "\n",
    "#Top Pillars\n",
    "for i in range(width+1):\n",
    "    print((c*width).center(width*2) + (c*width).center(width*6))\n",
    "\n",
    "#Middle Belt\n",
    "for i in range((width+1)//2):\n",
    "    print((c*width*5).center(width*6))\n",
    "\n",
    "#Bottom Pillars\n",
    "for i in range(width+1):\n",
    "    print((c*width).center(width*2) + (c*width).center(width*6))\n",
    "\n",
    "#Bottom Cone\n",
    "for i in range(width):\n",
    "    print(((c*(width-i-1)).rjust(width) + c + (c*(width-i-1)).ljust(width)).rjust(width*6))"
   ]
  },
  {
   "cell_type": "markdown",
   "id": "a500a4ef",
   "metadata": {},
   "source": [
    "**3. Заголовок**\n",
    "\n",
    "**Дано:** текст любой длины.\n",
    "\n",
    "**Задание:** написать программу, которая выведет заголовок, используя заданный текст. Подсказка используйте метод title.\n",
    "\n",
    "**Пример:** text = 'hello world'; результат = Hello World"
   ]
  },
  {
   "cell_type": "code",
   "execution_count": 3,
   "id": "66f67621",
   "metadata": {},
   "outputs": [
    {
     "name": "stdout",
     "output_type": "stream",
     "text": [
      "Hello World!\n"
     ]
    }
   ],
   "source": [
    "#3. Header\n",
    "text = 'hello world!'\n",
    "print(text.title())"
   ]
  },
  {
   "cell_type": "markdown",
   "id": "f8af3788",
   "metadata": {},
   "source": [
    "**4. Форматированный вывод денежной суммы**\n",
    "\n",
    "**Дано:** денежная сумма (amount > 0).\n",
    "\n",
    "**Задание:** написать программу, которая распечатает число в принятом денежном формате XXX,XXX.XX.\n",
    "\n",
    "**Пример:** amount = 100500.157; результат = 100,500.16"
   ]
  },
  {
   "cell_type": "code",
   "execution_count": 4,
   "id": "d73c83d3",
   "metadata": {},
   "outputs": [
    {
     "name": "stdout",
     "output_type": "stream",
     "text": [
      "100,500.16\n"
     ]
    }
   ],
   "source": [
    "# 4. Formatted output\n",
    "x = 100500.157\n",
    "print('{0:,.2f}'.format(x).replace(',', ','))"
   ]
  },
  {
   "cell_type": "markdown",
   "id": "1d4aa92b",
   "metadata": {},
   "source": [
    "**[Junior] 5. Дизайнер ковриков**\n",
    "\n",
    "Дизайнер составил шаблон домашних ковриков. Для массового выпуска ковриков ему нужно уметь быстро составлять макет произвольного размера. Известно, что длина коврика всегда больше в 3 раза чем его ширина (W = 3 * H).\n",
    "\n",
    "**Дано:** ширина коврика.\n",
    "\n",
    "**Задание:** написать программу, которая будет составлять макет коврика для его дальнейшего производства."
   ]
  },
  {
   "cell_type": "code",
   "execution_count": 5,
   "id": "592dc03c",
   "metadata": {
    "scrolled": true
   },
   "outputs": [
    {
     "name": "stdout",
     "output_type": "stream",
     "text": [
      "oooooooooo||ooooooooo\n",
      "oooooooo||||||ooooooo\n",
      "oooooo||||||||||ooooo\n",
      "********PYTHON*******\n",
      "oooooo||||||||||ooooo\n",
      "oooooooo||||||ooooooo\n",
      "oooooooooo||ooooooooo\n"
     ]
    }
   ],
   "source": [
    "# 5 Carpet designer\n",
    "height = 7\n",
    "width = height * 3\n",
    "for stick_count in range(1, height, 2):\n",
    "    print(('||' * stick_count).center(width, 'o'))\n",
    "print('PYTHON'.center(width, '*'))\n",
    "for stick_count in range(height - 2, 0, -2):\n",
    "    print(('||' * stick_count).center(width, 'o'))"
   ]
  },
  {
   "cell_type": "markdown",
   "id": "24816e4a",
   "metadata": {},
   "source": [
    "**[Junior+] 6. Произведение цифр**\n",
    "\n",
    "**Дано:** целое число.\n",
    "\n",
    "**Задание:** написать программу, которая перемножит все цифры заданного числа (0 - исключить).\n",
    "\n",
    "**Примеры:** 1) value = 123405, результат = 120 2) value = 999, результат = 729 3) value = 1000, результат = 1 4) value = 1111, результат = 1"
   ]
  },
  {
   "cell_type": "code",
   "execution_count": 6,
   "id": "840e8660",
   "metadata": {},
   "outputs": [
    {
     "name": "stdout",
     "output_type": "stream",
     "text": [
      "Произведение цифр равно:  120\n"
     ]
    }
   ],
   "source": [
    "#6. Multiplication\n",
    "num = 123405\n",
    "mult = 1\n",
    "while num != 0:\n",
    "    if num % 10 == 0:\n",
    "        num //= 10\n",
    "        continue\n",
    "    mult *= num % 10\n",
    "    num //= 10\n",
    "print(\"Произведение цифр равно: \", mult)"
   ]
  }
 ],
 "metadata": {
  "kernelspec": {
   "display_name": "Python 3 (ipykernel)",
   "language": "python",
   "name": "python3"
  },
  "language_info": {
   "codemirror_mode": {
    "name": "ipython",
    "version": 3
   },
   "file_extension": ".py",
   "mimetype": "text/x-python",
   "name": "python",
   "nbconvert_exporter": "python",
   "pygments_lexer": "ipython3",
   "version": "3.10.8"
  }
 },
 "nbformat": 4,
 "nbformat_minor": 5
}
