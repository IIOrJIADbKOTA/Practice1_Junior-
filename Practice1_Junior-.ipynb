{
 "cells": [
  {
   "cell_type": "code",
   "execution_count": 1,
   "id": "4f20d57f",
   "metadata": {},
   "outputs": [
    {
     "name": "stdout",
     "output_type": "stream",
     "text": [
      "Hello Kirill Yakovelv! You just delved into Python. Great start!\n",
      "  O  \n",
      " OOO \n",
      "OOOOO\n",
      " OOO         OOO        \n",
      " OOO         OOO        \n",
      " OOO         OOO        \n",
      " OOO         OOO        \n",
      " OOOOOOOOOOOOOOO  \n",
      " OOOOOOOOOOOOOOO  \n",
      " OOO         OOO        \n",
      " OOO         OOO        \n",
      " OOO         OOO        \n",
      " OOO         OOO        \n",
      "            OOOOO \n",
      "             OOO  \n",
      "              O   \n",
      "Hello World!\n",
      "100,500.16\n",
      "oooooooooo||ooooooooo\n",
      "oooooooo||||||ooooooo\n",
      "oooooo||||||||||ooooo\n",
      "********PYTHON*******\n",
      "oooooo||||||||||ooooo\n",
      "oooooooo||||||ooooooo\n",
      "oooooooooo||ooooooooo\n"
     ]
    }
   ],
   "source": [
    "#1. Welcome to Python\n",
    "def welcome(name, surname):\n",
    "    print(f'Hello {name} {surname}! You just delved into Python. Great start!')\n",
    "name = 'Kirill'\n",
    "surname = 'Yakovelv'\n",
    "welcome(name, surname)\n",
    "\n",
    "#2. Python art\n",
    "width = 3\n",
    "c = 'O'\n",
    "\n",
    "#Top Cone\n",
    "for i in range(width):\n",
    "    print((c*i).rjust(width-1) + c + (c*i).ljust(width-1))\n",
    "\n",
    "#Top Pillars\n",
    "for i in range(width+1):\n",
    "    print((c*width).center(width*2) + (c*width).center(width*6))\n",
    "\n",
    "#Middle Belt\n",
    "for i in range((width+1)//2):\n",
    "    print((c*width*5).center(width*6))\n",
    "\n",
    "#Bottom Pillars\n",
    "for i in range(width+1):\n",
    "    print((c*width).center(width*2) + (c*width).center(width*6))\n",
    "\n",
    "#Bottom Cone\n",
    "for i in range(width):\n",
    "    print(((c*(width-i-1)).rjust(width) + c + (c*(width-i-1)).ljust(width)).rjust(width*6))\n",
    "\n",
    "#3. Header\n",
    "text = 'hello world!'\n",
    "print(text.title())\n",
    "\n",
    "# 4. Formatted output\n",
    "x = 100500.157\n",
    "print('{0:,.2f}'.format(x).replace(',', ','))\n",
    "\n",
    "# 5 Carpet designer\n",
    "height = 7\n",
    "width = height * 3\n",
    "for stick_count in range(1, height, 2):\n",
    "    print(('||' * stick_count).center(width, 'o'))\n",
    "print('PYTHON'.center(width, '*'))\n",
    "for stick_count in range(height - 2, 0, -2):\n",
    "    print(('||' * stick_count).center(width, 'o'))"
   ]
  },
  {
   "cell_type": "code",
   "execution_count": null,
   "id": "af40bfda",
   "metadata": {},
   "outputs": [],
   "source": []
  }
 ],
 "metadata": {
  "kernelspec": {
   "display_name": "Python 3 (ipykernel)",
   "language": "python",
   "name": "python3"
  },
  "language_info": {
   "codemirror_mode": {
    "name": "ipython",
    "version": 3
   },
   "file_extension": ".py",
   "mimetype": "text/x-python",
   "name": "python",
   "nbconvert_exporter": "python",
   "pygments_lexer": "ipython3",
   "version": "3.10.8"
  }
 },
 "nbformat": 4,
 "nbformat_minor": 5
}
