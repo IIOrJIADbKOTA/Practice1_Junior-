{
 "cells": [
  {
   "cell_type": "markdown",
   "id": "6a624040",
   "metadata": {},
   "source": [
    "**1. Среднее\n",
    "Дано:** 3 случайных числа.\n",
    "\n",
    "**Задание:** написать программу, которая будет вычислять среднее значение этих чисел.\n",
    "\n",
    "**Пример:** (52 + 56 + 60) / 3 = 56"
   ]
  },
  {
   "cell_type": "code",
   "execution_count": 1,
   "id": "c455cad6",
   "metadata": {},
   "outputs": [
    {
     "name": "stdout",
     "output_type": "stream",
     "text": [
      "[73, 14, 80]\n",
      "The mean is = 55.666666666666664\n",
      "\n",
      "Random numbers:\n",
      "x=56.77073374597798\n",
      "y=111.7553892980183\n",
      "Integer= 0.0\n",
      "Remainder= 56.77073374597798\n",
      "\n",
      "14.72\n",
      "15\n",
      "0000014.721\n"
     ]
    }
   ],
   "source": [
    "#1. The mean\n",
    "from random import randint\n",
    "def mean(nums):\n",
    "    print(nums)\n",
    "    print(f\"The mean is = {sum(nums) / len(nums)}\\n\")\n",
    "nums = []\n",
    "for index in range(3):\n",
    "    nums.append(randint(0, 100))\n",
    "mean(nums)\n",
    "\n",
    "#2. Division\n",
    "import random\n",
    "x, y = [random.random()*(1000**random.random()) for i in range(2)]\n",
    "print(f\"Random numbers:\\n{x=}\\n{y=}\")\n",
    "print(f\"Integer= {x//y}\")\n",
    "print(f\"Remainder= {x%y}\\n\")\n",
    "\n",
    "\n",
    "#3 Rounding\n",
    "a = 14.721\n",
    "print(f\"{a:.2f}\")\n",
    "print(f\"{round(a)}\")\n",
    "print(f\"{a:011}\")"
   ]
  },
  {
   "cell_type": "markdown",
   "id": "7abe2431",
   "metadata": {},
   "source": [
    "**2. Деление и еще раз деление**\n",
    "\n",
    "**Дано:** 2 случайных числа.\n",
    "\n",
    "**Задание:** написать программу, которая будет печать результат целочисленного деления этих чисел, а также остаток от деления первого от второго.\n",
    "\n",
    "**Пример:** \n",
    "\n",
    "x = 177 и y = 10\n",
    "\n",
    "**Результат:**\n",
    " 17, 7"
   ]
  },
  {
   "cell_type": "code",
   "execution_count": 2,
   "id": "4c93f93e",
   "metadata": {},
   "outputs": [
    {
     "name": "stdout",
     "output_type": "stream",
     "text": [
      "Random numbers:\n",
      "x=109.97346873721011\n",
      "y=22.29419679760813\n",
      "Integer= 4.0\n",
      "Remainder= 20.79668154677759\n",
      "\n"
     ]
    }
   ],
   "source": [
    "#2. Division\n",
    "import random\n",
    "x, y = [random.random()*(1000**random.random()) for i in range(2)]\n",
    "print(f\"Random numbers:\\n{x=}\\n{y=}\")\n",
    "print(f\"Integer= {x//y}\")\n",
    "print(f\"Remainder= {x%y}\\n\")"
   ]
  },
  {
   "cell_type": "markdown",
   "id": "cbece0b8",
   "metadata": {},
   "source": [
    "**3. Округление**\n",
    "**Дано:** число с плавающей точкой.\n",
    "\n",
    "**Задание:** написать программу, которая будет округлять заданное число:\n",
    "\n",
    "1) 2х знаков после запятой; 2) до целого; 3) дополнять слева столько нулей, сколько не хватает числу до 11 знаков.\n",
    "\n",
    "**Пример:**\n",
    "\n",
    "x = 14.721\n",
    "\n",
    "1) 14.72\n",
    "\n",
    "2) 15\n",
    "\n",
    "3) 0000014.721"
   ]
  },
  {
   "cell_type": "code",
   "execution_count": 3,
   "id": "29a3cd24",
   "metadata": {},
   "outputs": [
    {
     "name": "stdout",
     "output_type": "stream",
     "text": [
      "14.72\n",
      "15\n",
      "0000014.721\n"
     ]
    }
   ],
   "source": [
    "#3 Rounding\n",
    "a = 14.721\n",
    "print(f\"{a:.2f}\")\n",
    "print(f\"{round(a)}\")\n",
    "print(f\"{a:011}\")"
   ]
  },
  {
   "cell_type": "markdown",
   "id": "590b7ff9",
   "metadata": {},
   "source": [
    "**[Junior] 4. Число \"наоборот\"**\n",
    "\n",
    "**Дано:** целое число (int).\n",
    "\n",
    "**Задание:** написать программу, которая будет инвертировать целое число\n",
    "\n",
    "**Пример:**\n",
    "\n",
    " 1)x = 123 -> 321 2) x = -325 -> -523 3) x = 0 -> 0 4) x = 1563847412 -> 0"
   ]
  },
  {
   "cell_type": "code",
   "execution_count": 3,
   "id": "67c20f56",
   "metadata": {},
   "outputs": [
    {
     "name": "stdout",
     "output_type": "stream",
     "text": [
      "-> 321\n",
      "-> 0\n"
     ]
    }
   ],
   "source": [
    "#4-5. Invert integer\n",
    "def reverse_number(number):\n",
    "    rev_number = 0\n",
    "    while number > 0:\n",
    "        x = number % 10\n",
    "        number = number // 10\n",
    "        rev_number = rev_number * 10\n",
    "        rev_number = rev_number + x\n",
    "    if (rev_number.bit_length() / 8) < 4:\n",
    "        print(f\"-> {rev_number}\")\n",
    "    else:\n",
    "        print(\"-> 0\")\n",
    "number1 = 123\n",
    "reverse_number(number1)\n",
    "number2 = 1563847412\n",
    "reverse_number(number2)"
   ]
  }
 ],
 "metadata": {
  "kernelspec": {
   "display_name": "Python 3 (ipykernel)",
   "language": "python",
   "name": "python3"
  },
  "language_info": {
   "codemirror_mode": {
    "name": "ipython",
    "version": 3
   },
   "file_extension": ".py",
   "mimetype": "text/x-python",
   "name": "python",
   "nbconvert_exporter": "python",
   "pygments_lexer": "ipython3",
   "version": "3.10.8"
  }
 },
 "nbformat": 4,
 "nbformat_minor": 5
}
